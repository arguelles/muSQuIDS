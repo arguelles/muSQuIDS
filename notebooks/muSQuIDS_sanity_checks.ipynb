{
 "cells": [
  {
   "cell_type": "code",
   "execution_count": 65,
   "metadata": {
    "collapsed": true
   },
   "outputs": [],
   "source": [
    "%matplotlib inline\n",
    "import matplotlib.pyplot as plt\n",
    "import numpy as np\n",
    "import scipy.integrate as integrate\n",
    "import scipy.interpolate as interpolate"
   ]
  },
  {
   "cell_type": "code",
   "execution_count": 66,
   "metadata": {
    "collapsed": false
   },
   "outputs": [],
   "source": [
    "m1 = np.genfromtxt(\"./decay_guy_100.dat\")\n",
    "m2 = np.genfromtxt(\"./decay_guy_200.dat\")"
   ]
  },
  {
   "cell_type": "code",
   "execution_count": 67,
   "metadata": {
    "collapsed": false
   },
   "outputs": [
    {
     "data": {
      "text/plain": [
       "<matplotlib.text.Text at 0x1123aba10>"
      ]
     },
     "execution_count": 67,
     "metadata": {},
     "output_type": "execute_result"
    },
    {
     "data": {
      "image/png": "[encoded data removed]",
      "text/plain": [
       "<matplotlib.figure.Figure at 0x110fd2a10>"
      ]
     },
     "metadata": {},
     "output_type": "display_data"
    }
   ],
   "source": [
    "plt.figure(figsize=(7,5))\n",
    "\n",
    "Es=np.logspace(4,6,50)\n",
    "Surv=np.exp(-1000000/(2.2e-6*(Es/105.)*3e8))\n",
    "plt.plot(Es*1e-3,Surv, ls = \"dashed\")\n",
    "\n",
    "m = m1\n",
    "\n",
    "plt.plot(m[:,0],m[:,1]*m[:,0], label = \"muon\")\n",
    "\n",
    "plt.plot(m[:,0],m[:,3]*m[:,0], label = \"nue\")\n",
    "plt.plot(m[:,0],m[:,4]*m[:,0], label = \"nuebar\")\n",
    "\n",
    "plt.plot(m[:,0],m[:,5]*m[:,0], label = \"numu\")\n",
    "plt.plot(m[:,0],m[:,6]*m[:,0], label = \"numubar\")\n",
    "\n",
    "plt.plot(m[:,0],m[:,7]*m[:,0], label = \"nutau\")\n",
    "plt.plot(m[:,0],m[:,8]*m[:,0], label = \"nutaubar\")\n",
    "\n",
    "m = m2\n",
    "\n",
    "plt.plot(m[:,0],m[:,1]*m[:,0], label = \"muon\")\n",
    "\n",
    "plt.plot(m[:,0],m[:,3]*m[:,0], label = \"nue\")\n",
    "plt.plot(m[:,0],m[:,4]*m[:,0], label = \"nuebar\")\n",
    "\n",
    "plt.plot(m[:,0],m[:,5]*m[:,0], label = \"numu\")\n",
    "plt.plot(m[:,0],m[:,6]*m[:,0], label = \"numubar\")\n",
    "\n",
    "plt.plot(m[:,0],m[:,7]*m[:,0], label = \"nutau\")\n",
    "plt.plot(m[:,0],m[:,8]*m[:,0], label = \"nutaubar\")\n",
    "\n",
    "plt.legend(bbox_to_anchor=(1.05, 1), loc=2, borderaxespad=0.)\n",
    "plt.semilogx()\n",
    "plt.xlabel(\"GeV\")"
   ]
  },
  {
   "cell_type": "code",
   "execution_count": 54,
   "metadata": {
    "collapsed": false
   },
   "outputs": [],
   "source": [
    "def Integral(m,i):\n",
    "    return sum(((m[1:,i]+m[:-1,i])/2.)*(m[1:,0]-m[:-1,0]))"
   ]
  },
  {
   "cell_type": "code",
   "execution_count": 55,
   "metadata": {
    "collapsed": true
   },
   "outputs": [],
   "source": [
    "def SIntegral(m,i):\n",
    "    return integrate.quad(interpolate.interp1d(m[:,0],m[:,i]),m[:,0][0],m[:,0][-1])[0]"
   ]
  },
  {
   "cell_type": "code",
   "execution_count": 68,
   "metadata": {
    "collapsed": false
   },
   "outputs": [
    {
     "data": {
      "text/plain": [
       "(620.2633636437068, 620.0084303605321)"
      ]
     },
     "execution_count": 68,
     "metadata": {},
     "output_type": "execute_result"
    }
   ],
   "source": [
    "SIntegral(m1,1),SIntegral(m2,1)"
   ]
  },
  {
   "cell_type": "code",
   "execution_count": 56,
   "metadata": {
    "collapsed": false
   },
   "outputs": [
    {
     "data": {
      "text/plain": [
       "279.9915696394679"
      ]
     },
     "execution_count": 56,
     "metadata": {},
     "output_type": "execute_result"
    }
   ],
   "source": [
    "900-SIntegral(m,1)"
   ]
  },
  {
   "cell_type": "code",
   "execution_count": 57,
   "metadata": {
    "collapsed": false
   },
   "outputs": [
    {
     "name": "stdout",
     "output_type": "stream",
     "text": [
      "279.992373077\n"
     ]
    }
   ],
   "source": [
    "MuonLoss=900-Integral(m,1)\n",
    "print MuonLoss"
   ]
  },
  {
   "cell_type": "code",
   "execution_count": 58,
   "metadata": {
    "collapsed": false
   },
   "outputs": [
    {
     "name": "stdout",
     "output_type": "stream",
     "text": [
      "0.203784026476\n",
      "281.552814751\n",
      "275.193435105\n",
      "0.0401811371222\n",
      "4.33563196331\n",
      "0.0360701858123\n"
     ]
    }
   ],
   "source": [
    "NueGain=Integral(m,3)\n",
    "print NueGain\n",
    "NuebarGain=Integral(m,4)\n",
    "print NuebarGain\n",
    "\n",
    "NumuGain=Integral(m,5)\n",
    "print NumuGain\n",
    "NumubarGain=Integral(m,6)\n",
    "print NumubarGain\n",
    "\n",
    "NutauGain=Integral(m,7)\n",
    "print NutauGain\n",
    "NutaubarGain=Integral(m,8)\n",
    "print NutaubarGain"
   ]
  },
  {
   "cell_type": "code",
   "execution_count": 59,
   "metadata": {
    "collapsed": false
   },
   "outputs": [
    {
     "data": {
      "text/plain": [
       "279.73285109487148"
      ]
     },
     "execution_count": 59,
     "metadata": {},
     "output_type": "execute_result"
    }
   ],
   "source": [
    "NueGain + NumuGain + NutauGain"
   ]
  },
  {
   "cell_type": "code",
   "execution_count": 60,
   "metadata": {
    "collapsed": false
   },
   "outputs": [
    {
     "data": {
      "text/plain": [
       "281.6290660740454"
      ]
     },
     "execution_count": 60,
     "metadata": {},
     "output_type": "execute_result"
    }
   ],
   "source": [
    "NuebarGain + NumubarGain + NutaubarGain"
   ]
  },
  {
   "cell_type": "code",
   "execution_count": null,
   "metadata": {
    "collapsed": true
   },
   "outputs": [],
   "source": []
  },
  {
   "cell_type": "code",
   "execution_count": null,
   "metadata": {
    "collapsed": true
   },
   "outputs": [],
   "source": []
  }
 ],
 "metadata": {
  "kernelspec": {
   "display_name": "Python 2",
   "language": "python",
   "name": "python2"
  },
  "language_info": {
   "codemirror_mode": {
    "name": "ipython",
    "version": 2
   },
   "file_extension": ".py",
   "mimetype": "text/x-python",
   "name": "python",
   "nbconvert_exporter": "python",
   "pygments_lexer": "ipython2",
   "version": "2.7.9"
  }
 },
 "nbformat": 4,
 "nbformat_minor": 0
}
